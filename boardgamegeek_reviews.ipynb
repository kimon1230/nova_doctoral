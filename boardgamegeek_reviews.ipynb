{
 "cells": [
  {
   "cell_type": "markdown",
   "metadata": {},
   "source": [
    "# BoardGameGeek.com User Reviews\n",
    "\n",
    "This notebook processes the reviews for the top 250 boardgames, sorted by number of votes received, from the website BoardGameGeek.com. Each step in the process tries to clean up the data before storing in a .json file at the end\n",
    "\n",
    "These are the steps:\n",
    "1. Download [the latest zip file](https://boardgamegeek.com/data_dumps/bg_ranks) containing the CSV with all games and summary rating data.\n",
    "    - This is a manual step and requires the user to be logged into the website\n",
    "    - After downloading the ZIP, extract the included CSV into the same directory as this notebook\n",
    "2. Filter list to those with at least 1000 votes and sort by vote count in descending order\n",
    "3. For each game, use the XML API to retrieve the comments\n",
    "    - Paginate through each result set as needed\n",
    "    - Remove unnecessary tags\n",
    "    - Ignore blank or non-english comments\n",
    "4. Store data in a .json file\n",
    "\n",
    "Note that the BoardGameGeek.com [XML API terms](https://boardgamegeek.com/wiki/page/XML_API_Terms_of_Use) state the following:\n",
    "<blockquote style=\"font-size:smaller\">Your access to the Extensible Markup Language (\"XML\") Application Programming Interface (\"API\") provided by BoardGameGeek, LLC (\"BGG\") and your use of the data provided by the BGG XML API, is pursuant to the Terms of Service generally applicable to all features of BGG, which are available at http://www.boardgamegeek.com/terms and incorporated herein by reference (\"TOS\"), and any modifications thereto. Capitalized words used herein without definition shall have the meaning ascribed to them in the TOS.<br/>\n",
    "In addition, due to the particular features of the BGG XML API, by accessing and using information from the BGG XML API, you agree to be bound by the following additional terms.</br>\n",
    "BGG grants you a worldwide, non-exclusive, royalty-free license to reproduce and display the data available through the BGG XML API, including User Submissions, solely for strictly non-commercial purposes and solely as permitted by the XML API provided by BGG. BGG shall have the right to terminate this license at any time and for any reason in its sole discretion.</br>\n",
    "If you would like to license the XML API for commercial use, please contact Daniel Karp.</br>\n",
    "You may not modify the data, including User Submissions, retrieved through the BGG XML API in any way. In all uses of the BGG XML API, you shall credit BoardGameGeek by name as the source of the data.</blockquote>"
   ]
  },
  {
   "cell_type": "markdown",
   "metadata": {},
   "source": [
    "### Non default libraries used\n",
    "In case your environment does not have these libraries, execute the following:\n",
    "`pip install pandas pyarrow lxml requests langdetect`"
   ]
  },
  {
   "cell_type": "markdown",
   "metadata": {},
   "source": [
    "### Import libraries used in the notebook"
   ]
  },
  {
   "cell_type": "code",
   "execution_count": null,
   "metadata": {},
   "outputs": [],
   "source": [
    "import pandas as pd\n",
    "import requests #for web requests\n",
    "from lxml import etree #used to parse the XML returned by the API\n",
    "from lxml import html #used to parse the HTML\n",
    "import time #for the wait times\n",
    "import datetime #for the timestamps\n",
    "import random #we wait a random number of seconds\n",
    "from langdetect import detect #library to detect the language a text is in\n",
    "from langdetect import LangDetectException #for exception handling when using the langdetect library\n",
    "import re #we're using regular expressions to clean up the text\n",
    "import zipfile #for the zip file\n",
    "import os #for file handling\n",
    "import shutil #to get shell info\n",
    "import sys #system interaction\n",
    "from typing import Dict, Union\n",
    "import json"
   ]
  },
  {
   "cell_type": "markdown",
   "metadata": {},
   "source": [
    "### Define global variables"
   ]
  },
  {
   "cell_type": "code",
   "execution_count": null,
   "metadata": {},
   "outputs": [],
   "source": [
    "baseURL = 'https://boardgamegeek.com/xmlapi/boardgame/'\n",
    "all_reviews = []\n",
    "canProcess = False #flag used to determine if we can start processing or not\n",
    "checkThreshold = 100000 #threshold for when to flush to disk\n",
    "outputFile = f\".\\\\boardgamegeek-{datetime.datetime.now().strftime('%Y%m%d')}.json\"\n",
    "gamesSelection = 250 #how many boardgames to select"
   ]
  },
  {
   "cell_type": "markdown",
   "metadata": {},
   "source": [
    "### Helper functions\n",
    "Define all the functions that are used in support of the main sections of the code.\n",
    "\n",
    "* **clearLine()**: Determine the dimensions of the terminal we're running in and clear out the line. Used in conjunction with the `logMessage()` function.\n",
    "* **logMessage()**: Prints a log message to the terminal with a `\\r` and a timestamp, useful for progress messages.\n",
    "* **checkNumericRange()**: Check if a given value is numeric and within a certain range.\n",
    "* **removeMarkup()**: Cleans the given text of any markup such as `[url]` or straight HTTP/S URLs.\n",
    "* **flushBuffer()**: Flushes the `all_reviews` buffer to disk. Though it doesn't do anything for mempry management (a todo), it does save the data regularly to disk just in case of a system crash."
   ]
  },
  {
   "cell_type": "code",
   "execution_count": null,
   "metadata": {},
   "outputs": [],
   "source": [
    "def clearLine():\n",
    "    columns, _ = shutil.get_terminal_size(fallback=(80,20)) #get the terminal size retaining just the column count, ignoring the rows\n",
    "    sys.stdout.write('\\r' + ' ' * columns * 2 + '\\r') #reset to the beginning of the line and print enough spaces to clear out the line. We're multiplying by 2 to cover the line\n",
    "    sys.stdout.flush() #flush the buffer\n",
    "\n",
    "def logMessage(msg: str):\n",
    "    clearLine() #clear the whole line\n",
    "    ts = datetime.datetime.now() #get the current timestamp\n",
    "    print(f\"\\r{ts}\\t{msg}\",end='\\r',flush=True) #print the message\n",
    "\n",
    "def checkNumericRange(val: str, min: float, max: float) -> bool:\n",
    "    try: #if the try/catch block fails, it wasn't a number\n",
    "        num = float(val) #convert the number to a float\n",
    "        if min<=num<=max:\n",
    "            return True\n",
    "        else:\n",
    "            return False\n",
    "    except Exception:\n",
    "        return False\n",
    "\n",
    "def removeMarkup(txt: str) -> str:\n",
    "    cleanText = txt #initialize\n",
    "    patterns = {r'\\[url=.*?\\].*?\\[/url\\]',      #pattern: [url=]...[/url]\n",
    "                r'\\[thing=.*?\\].*?\\[/thing\\]',  #pattern: [thing=]...[/thing]\n",
    "                r'\\[([^\\[\\]/]+)\\]\\[/\\1\\]',      #remove any empty tags eg. [tag][/tag]\n",
    "                r'https?://[^\\s]+',             #pattern: http://... or https://...\n",
    "                r'\\[/?[^\\[\\]]+\\]'               #KEEP LAST! remove all opening & closing tags\n",
    "                } \n",
    "    try:\n",
    "        for pattern in patterns: #cycle through the regex patterns\n",
    "            cleanText = re.sub(pattern,'',cleanText)\n",
    "    except Exception: #ignore any errors\n",
    "        pass\n",
    "\n",
    "    return cleanText\n",
    "\n",
    "def flushBuffer():\n",
    "    #todo: add memory management\n",
    "    #save additional data in case of BSOD to allow for better recovery\n",
    "    fl = open(outputFile, 'w', encoding='utf-8', newline='\\n')\n",
    "\n",
    "    json.dump(all_reviews, fl, indent=4, ensure_ascii=False)\n"
   ]
  },
  {
   "cell_type": "markdown",
   "metadata": {},
   "source": [
    "### Get the review data\n",
    "\n",
    "This is where we actually interact with the XML API. The [documentation](https://boardgamegeek.com/wiki/page/BGG_XML_API2) isn't the greatest and the resulting XML doesn't have a defined style but, the data is straightforward enough to parse. The key bits of data are in the `<name primary=\"true\">` element for the game name and then the reviews are stored in `<comment>` elements.\n",
    "\n",
    "The `getData()` function makes successive API calls (only 100 reviews per page are returned), cleans up the data, and returns a `Dict` object containing all the reviews for the given game ID"
   ]
  },
  {
   "cell_type": "code",
   "execution_count": null,
   "metadata": {},
   "outputs": [],
   "source": [
    "def getData(gameID: str) -> Dict[str, Union[str, Dict[str, Union[str, str]]]]:\n",
    "    \n",
    "    #make sure we got a parameter\n",
    "    if gameID == None:\n",
    "        return None\n",
    "    \n",
    "    urlParam = '?comments=1&page='\n",
    "    gameDataURL = baseURL + str(gameID) + urlParam #construct the URL\n",
    "\n",
    "    #initialize variables\n",
    "    pgCount = 1\n",
    "    reviewData = []\n",
    "    gameName = ''\n",
    "    keepGoing = True\n",
    "    commentTotal = 0\n",
    "    commentTotalGood = 0\n",
    "    commentPage = 0\n",
    "    commentGood = 0\n",
    "    requestErrorCount = 0\n",
    "\n",
    "    try:\n",
    "        while keepGoing: #we stay in the loop until we run out of comments\n",
    "            logMessage(f\"Processing page {pgCount}\\tTotal comments so far: {commentPage}\\tGood in page: {commentGood}\\tTotal good so far: {commentTotalGood}\")\n",
    "            resp = requests.get(gameDataURL+str(pgCount))\n",
    "\n",
    "            if resp.status_code == 200: #only continue if successful\n",
    "                try:\n",
    "                    xmlDoc = etree.fromstring(resp.content)\n",
    "                    comments = xmlDoc.xpath('//boardgames/boardgame/comment') #get all the <comment> elements\n",
    "                    if len(comments)>0:\n",
    "                        commentPage = len(comments)\n",
    "                        commentTotal += commentPage\n",
    "                        commentGood = 0\n",
    "\n",
    "                        logMessage(f\"Processing page {pgCount}\\tTotal comments so far: {commentTotal}\\tTotal good so far: {commentTotalGood}\\tComments in page: {commentPage}\\tGood in page: {commentGood}\")\n",
    "                        if pgCount == 1:\n",
    "                            gameName = xmlDoc.xpath('//boardgames/boardgame/name[@primary=\"true\"]/text()') #get the boardgame name\n",
    "\n",
    "                        for comment in comments: #loop through the comments and extract them\n",
    "                            dummy = comment.get('rating')\n",
    "                            if checkNumericRange(dummy, 1, 10): #check if we have a valid rating\n",
    "                                rtg = dummy\n",
    "                                txt = comment.text\n",
    "                                txt = removeMarkup(txt) #clean up the review text\n",
    "                                try:\n",
    "                                    if detect(txt)=='en': #we only want text in English\n",
    "                                        reviewData.append({'rating':rtg,'review_text':txt})\n",
    "                                        commentGood += 1\n",
    "                                        commentTotalGood += 1\n",
    "                                except LangDetectException: #ignore\n",
    "                                    pass\n",
    "                            logMessage(f\"Processing page {pgCount}\\tTotal comments so far: {commentTotal}\\tTotal good so far: {commentTotalGood}\\tComments in page: {commentPage}\\tGood in page: {commentGood}\")\n",
    "                        pgCount += 1\n",
    "                        time.sleep(random.uniform(5, 10)) #we're being nice and waiting between 5-10 seconds before each page\n",
    "                    else:\n",
    "                        #we found no more comments so we can exit the while loop\n",
    "                        keepGoing = False\n",
    "                except Exception as e:\n",
    "                    clearLine()\n",
    "                    requestErrorCount += 1\n",
    "                    if requestErrorCount >= 3:\n",
    "                        keepGoing = False\n",
    "                        logMessage(f\"Error {e} while processing page {pgCount}. Recorded at errors at least 3 times, no longer trying.\")\n",
    "                    else:\n",
    "                        logMessage(f\"Error {e} while processing page {pgCount}.\")\n",
    "            else:\n",
    "                requestErrorCount += 1 #increment the request error counter\n",
    "                if requestErrorCount >= 3:\n",
    "                    #if we've gotten 3 error in requesting the XML via the API, then exit the loop\n",
    "                    keepGoing = False\n",
    "        clearLine()\n",
    "        return {'game_name':gameName, 'reviews': reviewData}\n",
    "    except Exception as e:\n",
    "        clearLine()\n",
    "        print(f\"Error: {e}\")\n",
    "        return None\n",
    "\n"
   ]
  },
  {
   "cell_type": "markdown",
   "metadata": {},
   "source": [
    "### Start the process\n",
    "\n",
    "Our very first step is to process the file `boardgames_rangs.csv` containing the summary data for all boardgames. The assumption is that the file is in the same directory as this notebook. If it went well, the `canProcess` flag is set to `True` allowing the continuation."
   ]
  },
  {
   "cell_type": "code",
   "execution_count": null,
   "metadata": {},
   "outputs": [],
   "source": [
    "df = pd.read_csv('.\\\\boardgames_ranks.csv') #load the CSV\n",
    "gameIDs = df[df['usersrated']>=1000].sort_values(by='usersrated', ascending=False) #filer & sort\n",
    "print(f\"Total games in file: {len(df)}\\tWith ratings: {len(gameIDs)}\\tWe're only using the top {gamesSelection}\")\n",
    "gameIDs = gameIDs.head(gamesSelection)\n",
    "gameIDs.reset_index(drop=True, inplace=True) #reindex the dataframe\n",
    "canProcess = True"
   ]
  },
  {
   "cell_type": "markdown",
   "metadata": {},
   "source": [
    "### Main process\n",
    "If we can process the data (the `canProcess` flag has been set to `True`), iterate through each game/gameid and process the reviews for it from the API.\n",
    "\n",
    "There is also a mechanism to restart/continue interrupted runs by using the `reprocess`, `reprocessIndex`, and `reprocessIDs` variables."
   ]
  },
  {
   "cell_type": "code",
   "execution_count": null,
   "metadata": {},
   "outputs": [],
   "source": [
    "totalRows = len(gameIDs)\n",
    "reprocess = False #set to True if we are continuing a previously interrupted process\n",
    "reprocessIndex = 0 #in case of reprocessing, set this to the desired index. NOTE: the index is 0-based\n",
    "reprocessIDs = [] #set to the IDs wanted to reprocess. NOTE: these are the IDs of the games as used by BoardGameGeek.com\n",
    "if canProcess:\n",
    "    #we can process the data!\n",
    "    totalSaved = 0 #used for stats reporting\n",
    "    checkCount = 0 #used to check against the threshold for flushing to disk\n",
    "    ts = datetime.datetime.now()\n",
    "    print(f\"\\n{ts}\\tStarting to process the reviews\\n\")\n",
    "    for index, row in gameIDs.iterrows(): #iterate through each row in the filtered & sorted dataframe\n",
    "        gameID = row['id']\n",
    "        gameName = row['name']\n",
    "\n",
    "        #if we are reprocessing/continuing an interrupted run, then we only want to process the leftovers\n",
    "        if reprocess and (index< reprocessIndex or (not (gameID in reprocessIDs))):\n",
    "            continue\n",
    "\n",
    "        ts = datetime.datetime.now()\n",
    "        print(f\"{ts}\\tNow processing {index+1} of {totalRows}\\t{gameName} (#{gameID})\\tTotal votes: {row['usersrated']}\")\n",
    "        \n",
    "        gameReviews = getData(gameID) #request the XML from the API\n",
    "\n",
    "        if gameReviews == None:\n",
    "            print(f\"Error processing {gameName} (#{gameID}), skipping\")\n",
    "            time.sleep(random.uniform(5, 10)) #be nice and wait before requesting the next one\n",
    "            continue\n",
    "        \n",
    "        if len(gameReviews['reviews']) > 0: #only add to the main Dict if we had any valid reviews\n",
    "            totalSaved += len(gameReviews['reviews'])\n",
    "            ts = datetime.datetime.now()\n",
    "            print(f\"{ts}\\tSaving {len(gameReviews['reviews'])} reviews for {gameName}. Total saved so far: {totalSaved}\")\n",
    "            all_reviews.append(gameReviews)\n",
    "\n",
    "            checkCount += len(gameReviews['reviews'])\n",
    "            if checkCount >= checkThreshold:\n",
    "                flushBuffer()\n",
    "                checkCount = 0 #reset\n",
    "        else:\n",
    "            print(f\"Not saving anything for {gameName}\")\n",
    "\n",
    "        time.sleep(random.uniform(5, 10)) #be nice and wait before requesting the next one"
   ]
  },
  {
   "cell_type": "markdown",
   "metadata": {},
   "source": [
    "### Wrap up\n",
    "We collected all the data so, now we can save to a .json file for further processing.\n"
   ]
  },
  {
   "cell_type": "code",
   "execution_count": null,
   "metadata": {},
   "outputs": [],
   "source": [
    "# Save the collected data to a JSON file with UTF-8 encoding\n",
    "flushBuffer()\n",
    "\n",
    "print(f\"Data has been saved to {outputFile}\")"
   ]
  }
 ],
 "metadata": {
  "kernelspec": {
   "display_name": "Python 3",
   "language": "python",
   "name": "python3"
  },
  "language_info": {
   "codemirror_mode": {
    "name": "ipython",
    "version": 3
   },
   "file_extension": ".py",
   "mimetype": "text/x-python",
   "name": "python",
   "nbconvert_exporter": "python",
   "pygments_lexer": "ipython3",
   "version": "3.12.4"
  }
 },
 "nbformat": 4,
 "nbformat_minor": 2
}
